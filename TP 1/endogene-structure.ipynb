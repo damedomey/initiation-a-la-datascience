{
 "metadata": {
  "language_info": {
   "codemirror_mode": {
    "name": "ipython",
    "version": 3
   },
   "file_extension": ".py",
   "mimetype": "text/x-python",
   "name": "python",
   "nbconvert_exporter": "python",
   "pygments_lexer": "ipython3",
   "version": "3.9.2-final"
  },
  "orig_nbformat": 2,
  "kernelspec": {
   "name": "python39264bitc8f65d114df44235919f1fd35e2902e2",
   "display_name": "Python 3.9.2 64-bit"
  }
 },
 "nbformat": 4,
 "nbformat_minor": 2,
 "cells": [
  {
   "cell_type": "code",
   "execution_count": 1,
   "metadata": {},
   "outputs": [],
   "source": [
    "import pandas as pd"
   ]
  },
  {
   "cell_type": "code",
   "execution_count": 2,
   "metadata": {},
   "outputs": [],
   "source": [
    "customers = pd.read_csv('data/endogene/customers_export_1.csv')"
   ]
  },
  {
   "cell_type": "code",
   "execution_count": 3,
   "metadata": {},
   "outputs": [
    {
     "output_type": "execute_result",
     "data": {
      "text/plain": [
       "['First Name',\n",
       " 'Last Name',\n",
       " 'Email',\n",
       " 'Company',\n",
       " 'Address1',\n",
       " 'Address2',\n",
       " 'City',\n",
       " 'Province',\n",
       " 'Province Code',\n",
       " 'Country',\n",
       " 'Country Code',\n",
       " 'Zip',\n",
       " 'Phone',\n",
       " 'Accepts Marketing',\n",
       " 'Total Spent',\n",
       " 'Total Orders',\n",
       " 'Tags',\n",
       " 'Note',\n",
       " 'Tax Exempt']"
      ]
     },
     "metadata": {},
     "execution_count": 3
    }
   ],
   "source": [
    "customers.columns.to_list()"
   ]
  },
  {
   "cell_type": "code",
   "execution_count": 4,
   "metadata": {},
   "outputs": [
    {
     "output_type": "execute_result",
     "data": {
      "text/plain": [
       "(483, 19)"
      ]
     },
     "metadata": {},
     "execution_count": 4
    }
   ],
   "source": [
    "customers.shape"
   ]
  },
  {
   "cell_type": "code",
   "execution_count": 7,
   "metadata": {},
   "outputs": [
    {
     "output_type": "execute_result",
     "data": {
      "text/plain": [
       "['Name',\n",
       " 'Email',\n",
       " 'Financial Status',\n",
       " 'Paid at',\n",
       " 'Fulfillment Status',\n",
       " 'Fulfilled at',\n",
       " 'Accepts Marketing',\n",
       " 'Currency',\n",
       " 'Subtotal',\n",
       " 'Shipping',\n",
       " 'Taxes',\n",
       " 'Total',\n",
       " 'Discount Code',\n",
       " 'Discount Amount',\n",
       " 'Shipping Method',\n",
       " 'Created at',\n",
       " 'Lineitem quantity',\n",
       " 'Lineitem name',\n",
       " 'Lineitem price',\n",
       " 'Lineitem compare at price',\n",
       " 'Lineitem sku',\n",
       " 'Lineitem requires shipping',\n",
       " 'Lineitem taxable',\n",
       " 'Lineitem fulfillment status',\n",
       " 'Billing Name',\n",
       " 'Billing Street',\n",
       " 'Billing Address1',\n",
       " 'Billing Address2',\n",
       " 'Billing Company',\n",
       " 'Billing City',\n",
       " 'Billing Zip',\n",
       " 'Billing Province',\n",
       " 'Billing Country',\n",
       " 'Billing Phone',\n",
       " 'Shipping Name',\n",
       " 'Shipping Street',\n",
       " 'Shipping Address1',\n",
       " 'Shipping Address2',\n",
       " 'Shipping Company',\n",
       " 'Shipping City',\n",
       " 'Shipping Zip',\n",
       " 'Shipping Province',\n",
       " 'Shipping Country',\n",
       " 'Shipping Phone',\n",
       " 'Notes',\n",
       " 'Note Attributes',\n",
       " 'Cancelled at',\n",
       " 'Payment Method',\n",
       " 'Payment Reference',\n",
       " 'Refunded Amount',\n",
       " 'Vendor',\n",
       " 'Outstanding Balance',\n",
       " 'Employee',\n",
       " 'Location',\n",
       " 'Device ID',\n",
       " 'Id',\n",
       " 'Tags',\n",
       " 'Risk Level',\n",
       " 'Source',\n",
       " 'Lineitem discount',\n",
       " 'Tax 1 Name',\n",
       " 'Tax 1 Value',\n",
       " 'Tax 2 Name',\n",
       " 'Tax 2 Value',\n",
       " 'Tax 3 Name',\n",
       " 'Tax 3 Value',\n",
       " 'Tax 4 Name',\n",
       " 'Tax 4 Value',\n",
       " 'Tax 5 Name',\n",
       " 'Tax 5 Value',\n",
       " 'Phone',\n",
       " 'Receipt Number',\n",
       " 'Duties',\n",
       " 'Billing Province Name',\n",
       " 'Shipping Province Name',\n",
       " 'Payment Terms Name',\n",
       " 'Next Payment Due At']"
      ]
     },
     "metadata": {},
     "execution_count": 7
    }
   ],
   "source": [
    "orders = pd.read_csv('data/endogene/orders_export_1.csv')\n",
    "orders.columns.to_list()"
   ]
  },
  {
   "cell_type": "code",
   "execution_count": 8,
   "metadata": {},
   "outputs": [
    {
     "output_type": "execute_result",
     "data": {
      "text/plain": [
       "(578, 77)"
      ]
     },
     "metadata": {},
     "execution_count": 8
    }
   ],
   "source": [
    "orders.shape"
   ]
  },
  {
   "cell_type": "code",
   "execution_count": 9,
   "metadata": {},
   "outputs": [],
   "source": [
    "products = pd.read_csv('data/endogene/products_export_1.csv')"
   ]
  },
  {
   "cell_type": "code",
   "execution_count": 10,
   "metadata": {},
   "outputs": [
    {
     "output_type": "execute_result",
     "data": {
      "text/plain": [
       "['Handle',\n",
       " 'Title',\n",
       " 'Body (HTML)',\n",
       " 'Vendor',\n",
       " 'Standard Product Type',\n",
       " 'Custom Product Type',\n",
       " 'Tags',\n",
       " 'Published',\n",
       " 'Option1 Name',\n",
       " 'Option1 Value',\n",
       " 'Option2 Name',\n",
       " 'Option2 Value',\n",
       " 'Option3 Name',\n",
       " 'Option3 Value',\n",
       " 'Variant SKU',\n",
       " 'Variant Grams',\n",
       " 'Variant Inventory Tracker',\n",
       " 'Variant Inventory Policy',\n",
       " 'Variant Fulfillment Service',\n",
       " 'Variant Price',\n",
       " 'Variant Compare At Price',\n",
       " 'Variant Requires Shipping',\n",
       " 'Variant Taxable',\n",
       " 'Variant Barcode',\n",
       " 'Image Src',\n",
       " 'Image Position',\n",
       " 'Image Alt Text',\n",
       " 'Gift Card',\n",
       " 'SEO Title',\n",
       " 'SEO Description',\n",
       " 'Google Shopping / Google Product Category',\n",
       " 'Google Shopping / Gender',\n",
       " 'Google Shopping / Age Group',\n",
       " 'Google Shopping / MPN',\n",
       " 'Google Shopping / AdWords Grouping',\n",
       " 'Google Shopping / AdWords Labels',\n",
       " 'Google Shopping / Condition',\n",
       " 'Google Shopping / Custom Product',\n",
       " 'Google Shopping / Custom Label 0',\n",
       " 'Google Shopping / Custom Label 1',\n",
       " 'Google Shopping / Custom Label 2',\n",
       " 'Google Shopping / Custom Label 3',\n",
       " 'Google Shopping / Custom Label 4',\n",
       " 'Variant Image',\n",
       " 'Variant Weight Unit',\n",
       " 'Variant Tax Code',\n",
       " 'Cost per item',\n",
       " 'Status']"
      ]
     },
     "metadata": {},
     "execution_count": 10
    }
   ],
   "source": [
    "products.columns.to_list()"
   ]
  },
  {
   "cell_type": "code",
   "execution_count": 11,
   "metadata": {},
   "outputs": [
    {
     "output_type": "execute_result",
     "data": {
      "text/plain": [
       "(3286, 48)"
      ]
     },
     "metadata": {},
     "execution_count": 11
    }
   ],
   "source": [
    "products.shape"
   ]
  },
  {
   "cell_type": "code",
   "execution_count": 12,
   "metadata": {},
   "outputs": [],
   "source": [
    "sales = pd.read_csv('data/endogene/sales_2020-01-20_2021-11-20.csv')"
   ]
  },
  {
   "cell_type": "code",
   "execution_count": 14,
   "metadata": {},
   "outputs": [
    {
     "output_type": "execute_result",
     "data": {
      "text/plain": [
       "['product_title',\n",
       " 'product_vendor',\n",
       " 'product_type',\n",
       " 'net_quantity',\n",
       " 'gross_sales',\n",
       " 'discounts',\n",
       " 'returns',\n",
       " 'net_sales',\n",
       " 'taxes',\n",
       " 'total_sales']"
      ]
     },
     "metadata": {},
     "execution_count": 14
    }
   ],
   "source": [
    "sales.columns.to_list()"
   ]
  },
  {
   "cell_type": "code",
   "execution_count": 15,
   "metadata": {},
   "outputs": [
    {
     "output_type": "execute_result",
     "data": {
      "text/plain": [
       "(243, 10)"
      ]
     },
     "metadata": {},
     "execution_count": 15
    }
   ],
   "source": [
    "sales.shape"
   ]
  },
  {
   "cell_type": "code",
   "execution_count": 16,
   "metadata": {},
   "outputs": [
    {
     "output_type": "execute_result",
     "data": {
      "text/plain": [
       "['referrer_source', 'referrer_name', 'orders', 'total_sales']"
      ]
     },
     "metadata": {},
     "execution_count": 16
    }
   ],
   "source": [
    "saleStatistique = pd.read_csv('data/endogene/sales_2020-01-20_2021-11-20 (1).csv')\n",
    "saleStatistique.columns.to_list()"
   ]
  },
  {
   "cell_type": "code",
   "execution_count": 17,
   "metadata": {},
   "outputs": [
    {
     "output_type": "execute_result",
     "data": {
      "text/plain": [
       "(6, 4)"
      ]
     },
     "metadata": {},
     "execution_count": 17
    }
   ],
   "source": [
    "saleStatistique.shape"
   ]
  },
  {
   "cell_type": "code",
   "execution_count": 18,
   "metadata": {},
   "outputs": [
    {
     "output_type": "execute_result",
     "data": {
      "text/plain": [
       "['location_country', 'total_visitors', 'total_sessions']"
      ]
     },
     "metadata": {},
     "execution_count": 18
    }
   ],
   "source": [
    "visits = pd.read_csv('data/endogene/visits_2020-01-20_2021-11-20 (1).csv')\n",
    "visits.columns.to_list()"
   ]
  },
  {
   "cell_type": "code",
   "execution_count": 20,
   "metadata": {},
   "outputs": [
    {
     "output_type": "execute_result",
     "data": {
      "text/plain": [
       "(134, 3)"
      ]
     },
     "metadata": {},
     "execution_count": 20
    }
   ],
   "source": [
    "visits.shape"
   ]
  },
  {
   "cell_type": "code",
   "execution_count": 21,
   "metadata": {},
   "outputs": [
    {
     "output_type": "execute_result",
     "data": {
      "text/plain": [
       "['total_visitors', 'total_sessions']"
      ]
     },
     "metadata": {},
     "execution_count": 21
    }
   ],
   "source": [
    "visitStatistique = pd.read_csv('data/endogene/visits_2020-01-20_2021-11-20.csv')\n",
    "visitStatistique.columns.to_list()"
   ]
  },
  {
   "cell_type": "code",
   "execution_count": 22,
   "metadata": {},
   "outputs": [
    {
     "output_type": "execute_result",
     "data": {
      "text/plain": [
       "(1, 2)"
      ]
     },
     "metadata": {},
     "execution_count": 22
    }
   ],
   "source": [
    "visitStatistique.shape"
   ]
  },
  {
   "cell_type": "code",
   "execution_count": null,
   "metadata": {},
   "outputs": [],
   "source": []
  }
 ]
}
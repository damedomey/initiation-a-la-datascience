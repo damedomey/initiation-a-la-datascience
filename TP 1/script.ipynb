{
 "metadata": {
  "language_info": {
   "codemirror_mode": {
    "name": "ipython",
    "version": 3
   },
   "file_extension": ".py",
   "mimetype": "text/x-python",
   "name": "python",
   "nbconvert_exporter": "python",
   "pygments_lexer": "ipython3",
   "version": "3.9.2-final"
  },
  "orig_nbformat": 2,
  "kernelspec": {
   "name": "python39264bitc8f65d114df44235919f1fd35e2902e2",
   "display_name": "Python 3.9.2 64-bit"
  }
 },
 "nbformat": 4,
 "nbformat_minor": 2,
 "cells": [
  {
   "cell_type": "code",
   "execution_count": 1,
   "metadata": {},
   "outputs": [],
   "source": [
    "import pandas as pd "
   ]
  },
  {
   "cell_type": "code",
   "execution_count": 2,
   "metadata": {},
   "outputs": [],
   "source": [
    "products = pd.read_csv('data/endogene/products_export_1.csv')"
   ]
  },
  {
   "cell_type": "code",
   "execution_count": 27,
   "metadata": {},
   "outputs": [],
   "source": [
    "type = products['Custom Product Type'][products['Custom Product Type'].notnull()]"
   ]
  },
  {
   "cell_type": "code",
   "execution_count": 28,
   "metadata": {},
   "outputs": [
    {
     "output_type": "execute_result",
     "data": {
      "text/plain": [
       "array(['Alimentaire', 'Accessoires mode femme', 'High tech',\n",
       "       'hygiène et soins du corps', 'ALIMENTAIRE', 'Soins du corps',\n",
       "       'Soins esthétiques', 'soins du corps', 'Chemise homme',\n",
       "       'Chaussures Homme', 'Robe femme', 'Chaussures Femme',\n",
       "       'Électroménagers', 'Chaussures pour homme', 'Beauté et hygiène',\n",
       "       'hygiène et beauté', 'Roman', 'Sacs à mains',\n",
       "       'Complet nourrissons', 'Tenue pour homme', 'Eventail pour femme',\n",
       "       'Robe pour femme', 'Chaussures pour femme', 'Sac usage mixte',\n",
       "       'Ensemble pour homme', 'Chaussure pour homme',\n",
       "       'Chaussures pour enfants garçon', 'Thé', 'Petits électroménagers',\n",
       "       'Montres Homme', 'Hygiène et ménage', 'Barrettes',\n",
       "       'Complément Alimentaire', \"Bracelets et Boucles d'oreille\",\n",
       "       \"Pendentif et boucle d'oreille\", 'grand électroménager'],\n",
       "      dtype=object)"
      ]
     },
     "metadata": {},
     "execution_count": 28
    }
   ],
   "source": [
    "type.unique()"
   ]
  },
  {
   "cell_type": "code",
   "execution_count": 29,
   "metadata": {},
   "outputs": [
    {
     "output_type": "execute_result",
     "data": {
      "text/plain": [
       "36"
      ]
     },
     "metadata": {},
     "execution_count": 29
    }
   ],
   "source": [
    "type.nunique()"
   ]
  }
 ]
}
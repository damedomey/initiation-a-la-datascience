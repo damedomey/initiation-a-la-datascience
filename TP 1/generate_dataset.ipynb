{
 "cells": [
  {
   "cell_type": "code",
   "execution_count": 1,
   "metadata": {},
   "outputs": [],
   "source": [
    "import pandas as pd"
   ]
  },
  {
   "cell_type": "code",
   "execution_count": 17,
   "metadata": {},
   "outputs": [],
   "source": [
    "customers = pd.read_csv(\"data/endogene/clean data/customers.csv\")\n",
    "orders = pd.read_csv(\"data/endogene/clean data/orders.csv\")\n",
    "products = pd.read_csv(\"data/endogene/clean data/products.csv\")\n",
    "sales = pd.read_csv(\"data/endogene/clean data/sales.csv\")\n",
    "saleStat = pd.read_csv(\"data/endogene/clean data/salesStatistiques.csv\")\n",
    "visits = pd.read_csv(\"data/endogene/clean data/visits.csv\")\n",
    "visitStat = pd.read_csv(\"data/endogene/clean data/customers.csv\")\n",
    "\n",
    "prevision = pd.read_csv(\"data/exogene/prevision de levolution demographique de l'insae.csv\")\n",
    "prevision = pd.read_csv(\"data/exogene/tendances par categories 2016-2021.csv\")"
   ]
  },
  {
   "cell_type": "code",
   "execution_count": 18,
   "metadata": {},
   "outputs": [
    {
     "data": {
      "text/plain": [
       "['surname',\n",
       " 'name',\n",
       " 'email',\n",
       " 'country',\n",
       " 'phone',\n",
       " 'accepts_marketing',\n",
       " 'spents',\n",
       " 'orders']"
      ]
     },
     "execution_count": 18,
     "metadata": {},
     "output_type": "execute_result"
    }
   ],
   "source": [
    "customers.columns.tolist()"
   ]
  },
  {
   "cell_type": "code",
   "execution_count": 21,
   "metadata": {},
   "outputs": [
    {
     "data": {
      "text/plain": [
       "['name',\n",
       " 'email',\n",
       " 'financial_status',\n",
       " 'paid_at',\n",
       " 'subtotal',\n",
       " 'shipping',\n",
       " 'taxes',\n",
       " 'shipping_method',\n",
       " 'created_at',\n",
       " 'lineitem_quantity',\n",
       " 'lineitem_name',\n",
       " 'lineitem_price',\n",
       " 'payment_method',\n",
       " 'source',\n",
       " 'phone']"
      ]
     },
     "execution_count": 21,
     "metadata": {},
     "output_type": "execute_result"
    }
   ],
   "source": [
    "orders.columns.tolist()"
   ]
  },
  {
   "cell_type": "code",
   "execution_count": 23,
   "metadata": {},
   "outputs": [
    {
     "data": {
      "text/plain": [
       "['title', 'category', 'status']"
      ]
     },
     "execution_count": 23,
     "metadata": {},
     "output_type": "execute_result"
    }
   ],
   "source": [
    "products.columns.tolist()"
   ]
  },
  {
   "cell_type": "code",
   "execution_count": null,
   "metadata": {},
   "outputs": [],
   "source": []
  }
 ],
 "metadata": {
  "interpreter": {
   "hash": "e7370f93d1d0cde622a1f8e1c04877d8463912d04d973331ad4851f04de6915a"
  },
  "kernelspec": {
   "display_name": "Python 3.9.2 64-bit",
   "language": "python",
   "name": "python3"
  },
  "language_info": {
   "codemirror_mode": {
    "name": "ipython",
    "version": 3
   },
   "file_extension": ".py",
   "mimetype": "text/x-python",
   "name": "python",
   "nbconvert_exporter": "python",
   "pygments_lexer": "ipython3",
   "version": "3.9.2"
  },
  "orig_nbformat": 4
 },
 "nbformat": 4,
 "nbformat_minor": 2
}

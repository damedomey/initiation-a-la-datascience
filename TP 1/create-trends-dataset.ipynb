{
 "metadata": {
  "language_info": {
   "codemirror_mode": {
    "name": "ipython",
    "version": 3
   },
   "file_extension": ".py",
   "mimetype": "text/x-python",
   "name": "python",
   "nbconvert_exporter": "python",
   "pygments_lexer": "ipython3",
   "version": "3.9.2-final"
  },
  "orig_nbformat": 2,
  "kernelspec": {
   "name": "python39264bitc8f65d114df44235919f1fd35e2902e2",
   "display_name": "Python 3.9.2 64-bit"
  }
 },
 "nbformat": 4,
 "nbformat_minor": 2,
 "cells": [
  {
   "cell_type": "code",
   "execution_count": 1,
   "metadata": {},
   "outputs": [],
   "source": [
    "import pandas as pd "
   ]
  },
  {
   "cell_type": "code",
   "execution_count": 2,
   "metadata": {},
   "outputs": [],
   "source": [
    "products = products = pd.read_csv('data/endogene/products_export_1.csv')"
   ]
  },
  {
   "cell_type": "code",
   "execution_count": 3,
   "metadata": {},
   "outputs": [],
   "source": [
    "type = products['Custom Product Type'][products['Custom Product Type'].notnull()]"
   ]
  },
  {
   "cell_type": "code",
   "execution_count": 9,
   "metadata": {},
   "outputs": [],
   "source": [
    "categories = type.unique().tolist()"
   ]
  },
  {
   "cell_type": "code",
   "execution_count": 10,
   "metadata": {},
   "outputs": [
    {
     "output_type": "execute_result",
     "data": {
      "text/plain": [
       "['Alimentaire',\n",
       " 'Accessoires mode femme',\n",
       " 'High tech',\n",
       " 'hygiène et soins du corps',\n",
       " 'ALIMENTAIRE',\n",
       " 'Soins du corps',\n",
       " 'Soins esthétiques',\n",
       " 'soins du corps',\n",
       " 'Chemise homme',\n",
       " 'Chaussures Homme',\n",
       " 'Robe femme',\n",
       " 'Chaussures Femme',\n",
       " 'Électroménagers',\n",
       " 'Chaussures pour homme',\n",
       " 'Beauté et hygiène',\n",
       " 'hygiène et beauté',\n",
       " 'Roman',\n",
       " 'Sacs à mains',\n",
       " 'Complet nourrissons',\n",
       " 'Tenue pour homme',\n",
       " 'Eventail pour femme',\n",
       " 'Robe pour femme',\n",
       " 'Chaussures pour femme',\n",
       " 'Sac usage mixte',\n",
       " 'Ensemble pour homme',\n",
       " 'Chaussure pour homme',\n",
       " 'Chaussures pour enfants garçon',\n",
       " 'Thé',\n",
       " 'Petits électroménagers',\n",
       " 'Montres Homme',\n",
       " 'Hygiène et ménage',\n",
       " 'Barrettes',\n",
       " 'Complément Alimentaire',\n",
       " \"Bracelets et Boucles d'oreille\",\n",
       " \"Pendentif et boucle d'oreille\",\n",
       " 'grand électroménager']"
      ]
     },
     "metadata": {},
     "execution_count": 10
    }
   ],
   "source": [
    "categories"
   ]
  },
  {
   "cell_type": "code",
   "execution_count": null,
   "metadata": {},
   "outputs": [],
   "source": []
  }
 ]
}
{
 "metadata": {
  "language_info": {
   "codemirror_mode": {
    "name": "ipython",
    "version": 3
   },
   "file_extension": ".py",
   "mimetype": "text/x-python",
   "name": "python",
   "nbconvert_exporter": "python",
   "pygments_lexer": "ipython3",
   "version": "3.9.2-final"
  },
  "orig_nbformat": 2,
  "kernelspec": {
   "name": "python39264bitc8f65d114df44235919f1fd35e2902e2",
   "display_name": "Python 3.9.2 64-bit"
  }
 },
 "nbformat": 4,
 "nbformat_minor": 2,
 "cells": [
  {
   "cell_type": "code",
   "execution_count": 143,
   "metadata": {},
   "outputs": [],
   "source": [
    "import pandas as pd\n",
    "from pytrends.request import TrendReq"
   ]
  },
  {
   "cell_type": "code",
   "execution_count": 144,
   "metadata": {},
   "outputs": [],
   "source": [
    "products = products = pd.read_csv('data/endogene/products_export_1.csv')"
   ]
  },
  {
   "cell_type": "code",
   "execution_count": 146,
   "metadata": {},
   "outputs": [],
   "source": [
    "type = products['Custom Product Type'][products['Custom Product Type'].notnull()]"
   ]
  },
  {
   "cell_type": "code",
   "execution_count": 157,
   "metadata": {},
   "outputs": [],
   "source": [
    "# Récupération de la liste des categories et suppression des doublons\n",
    "categories = type.sort_values().unique().tolist()\n",
    "\n",
    "for i in range(len(categories)):\n",
    "    categories[i] = categories[i].lower()\n",
    "\n",
    "categories.sort()\n",
    "\n",
    "for i in range(len(categories)):\n",
    "    if i == len(categories):\n",
    "        break\n",
    "    if categories[i-1] == categories[i]:\n",
    "        del categories[i]"
   ]
  },
  {
   "cell_type": "code",
   "execution_count": 151,
   "metadata": {},
   "outputs": [],
   "source": [
    "pytrend = TrendReq()"
   ]
  },
  {
   "cell_type": "code",
   "execution_count": 201,
   "metadata": {},
   "outputs": [
    {
     "output_type": "execute_result",
     "data": {
      "text/plain": [
       "            Pizza  Italian  Spaghetti  Breadsticks  Sausage isPartial\n",
       "date                                                                 \n",
       "2016-11-27     73       14          4            0        6     False\n",
       "2016-12-04     75       15          4            0        6     False\n",
       "2016-12-11     79       14          4            0        6     False\n",
       "2016-12-18     82       16          4            0        8     False\n",
       "2016-12-25     91       15          4            0        7     False\n",
       "...           ...      ...        ...          ...      ...       ...\n",
       "2021-10-17     70       15          5            0        4     False\n",
       "2021-10-24     74       14          5            0        4     False\n",
       "2021-10-31     75       14          5            0        4     False\n",
       "2021-11-07     71       15          5            0        5     False\n",
       "2021-11-14     65       14          4            0        5      True\n",
       "\n",
       "[260 rows x 6 columns]"
      ],
      "text/html": "<div>\n<style scoped>\n    .dataframe tbody tr th:only-of-type {\n        vertical-align: middle;\n    }\n\n    .dataframe tbody tr th {\n        vertical-align: top;\n    }\n\n    .dataframe thead th {\n        text-align: right;\n    }\n</style>\n<table border=\"1\" class=\"dataframe\">\n  <thead>\n    <tr style=\"text-align: right;\">\n      <th></th>\n      <th>Pizza</th>\n      <th>Italian</th>\n      <th>Spaghetti</th>\n      <th>Breadsticks</th>\n      <th>Sausage</th>\n      <th>isPartial</th>\n    </tr>\n    <tr>\n      <th>date</th>\n      <th></th>\n      <th></th>\n      <th></th>\n      <th></th>\n      <th></th>\n      <th></th>\n    </tr>\n  </thead>\n  <tbody>\n    <tr>\n      <th>2016-11-27</th>\n      <td>73</td>\n      <td>14</td>\n      <td>4</td>\n      <td>0</td>\n      <td>6</td>\n      <td>False</td>\n    </tr>\n    <tr>\n      <th>2016-12-04</th>\n      <td>75</td>\n      <td>15</td>\n      <td>4</td>\n      <td>0</td>\n      <td>6</td>\n      <td>False</td>\n    </tr>\n    <tr>\n      <th>2016-12-11</th>\n      <td>79</td>\n      <td>14</td>\n      <td>4</td>\n      <td>0</td>\n      <td>6</td>\n      <td>False</td>\n    </tr>\n    <tr>\n      <th>2016-12-18</th>\n      <td>82</td>\n      <td>16</td>\n      <td>4</td>\n      <td>0</td>\n      <td>8</td>\n      <td>False</td>\n    </tr>\n    <tr>\n      <th>2016-12-25</th>\n      <td>91</td>\n      <td>15</td>\n      <td>4</td>\n      <td>0</td>\n      <td>7</td>\n      <td>False</td>\n    </tr>\n    <tr>\n      <th>...</th>\n      <td>...</td>\n      <td>...</td>\n      <td>...</td>\n      <td>...</td>\n      <td>...</td>\n      <td>...</td>\n    </tr>\n    <tr>\n      <th>2021-10-17</th>\n      <td>70</td>\n      <td>15</td>\n      <td>5</td>\n      <td>0</td>\n      <td>4</td>\n      <td>False</td>\n    </tr>\n    <tr>\n      <th>2021-10-24</th>\n      <td>74</td>\n      <td>14</td>\n      <td>5</td>\n      <td>0</td>\n      <td>4</td>\n      <td>False</td>\n    </tr>\n    <tr>\n      <th>2021-10-31</th>\n      <td>75</td>\n      <td>14</td>\n      <td>5</td>\n      <td>0</td>\n      <td>4</td>\n      <td>False</td>\n    </tr>\n    <tr>\n      <th>2021-11-07</th>\n      <td>71</td>\n      <td>15</td>\n      <td>5</td>\n      <td>0</td>\n      <td>5</td>\n      <td>False</td>\n    </tr>\n    <tr>\n      <th>2021-11-14</th>\n      <td>65</td>\n      <td>14</td>\n      <td>4</td>\n      <td>0</td>\n      <td>5</td>\n      <td>True</td>\n    </tr>\n  </tbody>\n</table>\n<p>260 rows × 6 columns</p>\n</div>"
     },
     "metadata": {},
     "execution_count": 201
    }
   ],
   "source": [
    "mots = ['Pizza', 'Italian', 'Spaghetti', 'Breadsticks', 'Sausage', 'Moi']\n",
    "\n",
    "def check_trends(keywords):\n",
    "    keyCount = len(keywords)\n",
    "    if keyCount > 5:\n",
    "        df = pd.DataFrame([])\n",
    "        for i in range(0, keyCount, 5):\n",
    "            start, end = i, i+5\n",
    "            end = end if end < keyCount else keyCount\n",
    "            pytrend.build_payload(keywords[start:end])\n",
    "            if df.empty:\n",
    "                df = pytrend.interest_over_time()\n",
    "            else: \n",
    "                df.join(pytrend.interest_over_time(), lsuffix='_caller', rsuffix='_other')\n",
    "    else: \n",
    "        pytrend.build_payload(keywords)\n",
    "        df = pytrend.interest_over_time()\n",
    "    return df\n",
    "# df = pytrend.get_historical_interest(categories, year_start=2018, year_end=2018)\n",
    "df = check_trends(mots)\n",
    "df"
   ]
  },
  {
   "cell_type": "code",
   "execution_count": 199,
   "metadata": {},
   "outputs": [
    {
     "output_type": "stream",
     "name": "stdout",
     "text": [
      "0\n5\n"
     ]
    }
   ],
   "source": [
    "for i in range(0, 6, 5):\n",
    "    print(i)"
   ]
  }
 ]
}